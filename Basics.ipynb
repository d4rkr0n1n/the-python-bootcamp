{
 "cells": [
  {
   "cell_type": "markdown",
   "metadata": {},
   "source": [
    "# Type Casting\n",
    "- Integers\n",
    "- Floats\n",
    "- Strings"
   ]
  },
  {
   "cell_type": "code",
   "execution_count": 1,
   "metadata": {},
   "outputs": [],
   "source": [
    "# Integers\n",
    "x = int(1)\n",
    "y = int(1.2)\n",
    "z = int(\"1\")\n",
    "\n",
    "# Floats\n",
    "w = float(\"6.9\")\n",
    "x = float(1)\n",
    "y = float(6.9)\n",
    "z = float(\"1\")\n",
    "\n",
    "# Strings\n",
    "x = str(\"1\")\n",
    "y = str(21)\n",
    "z = str(1.3)"
   ]
  },
  {
   "cell_type": "markdown",
   "metadata": {},
   "source": [
    "# Exceptions\n",
    "- try-except block\n",
    "- try-except block (specific error)\n",
    "- else block if no error\n",
    "- finally block (always executed)\n",
    "- raise an exception\n",
    "- raise a specific exception"
   ]
  },
  {
   "cell_type": "code",
   "execution_count": 16,
   "metadata": {},
   "outputs": [
    {
     "name": "stdout",
     "output_type": "stream",
     "text": [
      "Exception occurred\n",
      "Exception occurred (ValueError)\n",
      "Exception occurred (ValueError)\n",
      "Exception occurred (ValueError)\n",
      "Finally block executed\n",
      "An exception occurred with details: x is not a whole number\n",
      "An exception occurred with details:  x is not a string\n"
     ]
    }
   ],
   "source": [
    "# try-except block\n",
    "try:\n",
    "  x = int(\"6.9\")\n",
    "except:\n",
    "  print(\"Exception occurred\")\n",
    "\n",
    "# try-except block (specific error)\n",
    "try:\n",
    "  x = int(\"6.9\")\n",
    "except ValueError:\n",
    "  print(\"Exception occurred (ValueError)\")\n",
    "\n",
    "# else block if no error\n",
    "try:\n",
    "  x = int(\"6.9\")\n",
    "except ValueError:\n",
    "  print(\"Exception occurred (ValueError)\")\n",
    "else:\n",
    "  print(\"No exception occurred\")\n",
    "\n",
    "\n",
    "# finally block (always executed)\n",
    "try:\n",
    "  x = int(\"6.9\")\n",
    "except ValueError:\n",
    "  print(\"Exception occurred (ValueError)\")\n",
    "finally:\n",
    "  print(\"Finally block executed\")\n",
    "\n",
    "# raise an exception\n",
    "try:\n",
    "  x = -1\n",
    "  if x < 0:\n",
    "    raise Exception(\"x is not a whole number\")\n",
    "except Exception as e:\n",
    "  print(\"An exception occurred with details:\",e)\n",
    "\n",
    "# raise a specific exception\n",
    "try:\n",
    "  x = -1\n",
    "  if not type(x) is str:\n",
    "    raise TypeError(\"x is not a string\")\n",
    "except TypeError as e:\n",
    "  print(\"An exception occurred with details: \",e)"
   ]
  }
 ],
 "metadata": {
  "kernelspec": {
   "display_name": "Python 3",
   "language": "python",
   "name": "python3"
  },
  "language_info": {
   "codemirror_mode": {
    "name": "ipython",
    "version": 3
   },
   "file_extension": ".py",
   "mimetype": "text/x-python",
   "name": "python",
   "nbconvert_exporter": "python",
   "pygments_lexer": "ipython3",
   "version": "3.12.4"
  }
 },
 "nbformat": 4,
 "nbformat_minor": 2
}
